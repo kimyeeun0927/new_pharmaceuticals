{
  "nbformat": 4,
  "nbformat_minor": 0,
  "metadata": {
    "colab": {
      "provenance": []
    },
    "kernelspec": {
      "name": "python3",
      "display_name": "Python 3"
    },
    "language_info": {
      "name": "python"
    }
  },
  "cells": [
    {
      "cell_type": "code",
      "source": [
        "import pandas as pd\n",
        "\n",
        "cand = pd.read_csv('./candidates_00.csv')\n",
        "\n",
        "motif_cols = cand.columns[-22:].tolist()\n",
        "\n",
        "manual_weights = {\n",
        "    # Covalent Suicide Inhibition (가장 강함)\n",
        "    'terminal_acetylene':      1.0,\n",
        "    'michael_acceptor':        1.0,\n",
        "    'epoxide':                 1.0,\n",
        "    # Mechanism‐based Inactivation (매우 강함)\n",
        "    'macrocyclic_lactone':     0.9,\n",
        "    'desosamine_sugar':        0.9,\n",
        "    'hydroxyethylene':         0.9,\n",
        "    'furanocoumarin':          0.9,\n",
        "    'nitroso':                 0.9,\n",
        "    # Heme‐Iron Coordination (강한 가역적 저해)\n",
        "    'imidazole':               0.7,\n",
        "    '1,2,4-triazole':          0.7,\n",
        "    'thiazole':                0.7,\n",
        "    'quinolone':               0.7,\n",
        "    'pyridine':                0.7,\n",
        "    # Reversible Competitive Inhibition (중간 정도)\n",
        "    'benzothiazepine':         0.5,\n",
        "    'phenylalkylamine':        0.5,\n",
        "    'phenylpiperazine':        0.5,\n",
        "    'halogenated_phenoxy':     0.5,\n",
        "    'pah_skeleton':            0.5,\n",
        "    # 기타 상호작용 모티프 (약함)\n",
        "    'tertiary_amine':          0.3,\n",
        "    'tert_butyl':              0.3,\n",
        "    'trifluoromethyl':         0.3,\n",
        "    'catechol':                0.3,\n",
        "    'sulfonamide':             0.3,\n",
        "    'urea':                    0.3,\n",
        "    'carbamate':               0.3\n",
        "}\n",
        "\n",
        "for col in motif_cols:\n",
        "    w = manual_weights.get(col, 0.0)\n",
        "    cand[col] = cand[col].map({0: 0.0, 1: w})\n",
        "\n",
        "cand.to_csv('./candidates_00_weighted.csv', index=False)"
      ],
      "metadata": {
        "id": "n0VgumfDZedt"
      },
      "execution_count": null,
      "outputs": []
    }
  ]
}