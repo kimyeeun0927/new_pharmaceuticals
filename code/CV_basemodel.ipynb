{
  "nbformat": 4,
  "nbformat_minor": 0,
  "metadata": {
    "colab": {
      "provenance": []
    },
    "kernelspec": {
      "name": "python3",
      "display_name": "Python 3"
    },
    "language_info": {
      "name": "python"
    }
  },
  "cells": [
    {
      "cell_type": "code",
      "source": [
        "from google.colab import drive\n",
        "drive.mount('/content/drive')"
      ],
      "metadata": {
        "id": "A4HKMVdIaHRg",
        "colab": {
          "base_uri": "https://localhost:8080/"
        },
        "outputId": "14e50012-1c98-4e9e-d569-48c9a75d7877"
      },
      "execution_count": 1,
      "outputs": [
        {
          "output_type": "stream",
          "name": "stdout",
          "text": [
            "Mounted at /content/drive\n"
          ]
        }
      ]
    },
    {
      "cell_type": "code",
      "source": [
        "import pandas as pd\n",
        "import numpy as np\n",
        "from sklearn.model_selection import train_test_split\n",
        "from sklearn.ensemble import RandomForestRegressor\n",
        "from sklearn.metrics import mean_squared_error\n",
        "from scipy.stats import pearsonr\n",
        "\n",
        "df = pd.read_csv('./train.csv')\n",
        "X = df.drop(columns=['Inhibition','ID'])\n",
        "y = df['Inhibition']"
      ],
      "metadata": {
        "id": "I_LBI8M1ac2N"
      },
      "execution_count": 4,
      "outputs": []
    },
    {
      "cell_type": "code",
      "source": [
        "X_train, X_test, y_train, y_test = train_test_split(\n",
        "    X, y,\n",
        "    test_size=0.2,\n",
        "    random_state=42\n",
        ")\n",
        "\n",
        "# RandomForest 사용\n",
        "rf = RandomForestRegressor(\n",
        "    n_estimators=100,\n",
        "    random_state=42,\n",
        "    n_jobs=-1\n",
        ")\n",
        "rf.fit(X_train, y_train)\n",
        "\n",
        "y_pred = rf.predict(X_test)\n",
        "\n",
        "# A 점수 산출\n",
        "mse = mean_squared_error(y_test, y_pred)\n",
        "rmse = np.sqrt(mse)\n",
        "y_range = y_test.max() - y_test.min()\n",
        "norm_rmse = rmse / y_range\n",
        "\n",
        "# B 점수 산출\n",
        "pearson_corr, _ = pearsonr(y_test, y_pred)\n",
        "\n",
        "# 최종 score 산출\n",
        "score = 0.5 * (1 - min(norm_rmse, 1)) + 0.5 * pearson_corr\n",
        "\n",
        "print(f'Normalized RMSE: {norm_rmse:.4f}')\n",
        "print(f'Pearson Correlation: {pearson_corr:.4f}')\n",
        "print(f'Score: {score:.4f}')"
      ],
      "metadata": {
        "id": "9eCsK6Jf37-h",
        "colab": {
          "base_uri": "https://localhost:8080/"
        },
        "outputId": "bd075f87-c9c4-4253-a513-cc7c4ed6e1f0"
      },
      "execution_count": 6,
      "outputs": [
        {
          "output_type": "stream",
          "name": "stdout",
          "text": [
            "Normalized RMSE: 0.2592\n",
            "Pearson Correlation: 0.2217\n",
            "Score: 0.4813\n"
          ]
        }
      ]
    }
  ]
}